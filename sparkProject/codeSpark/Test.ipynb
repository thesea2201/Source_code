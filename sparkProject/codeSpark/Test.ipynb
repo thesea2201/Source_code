{
 "cells": [
  {
   "cell_type": "code",
   "execution_count": null,
   "metadata": {
    "scrolled": false
   },
   "outputs": [],
   "source": [
    "credibility,\n",
    "balance, \n",
    "duration,\n",
    "history,\n",
    "purpose,\n",
    "credit_amount,\n",
    "savings,\n",
    "employment,\n",
    "instPercent,\n",
    "sexMarried,\n",
    "guarantors,\n",
    "residence,\n",
    "assets,\n",
    "age,\n",
    "conc_credit,\n",
    "housing,\n",
    "credits,\n",
    "job,\n",
    "dependents,\n",
    "has_phone,\n",
    "foreign"
   ]
  },
  {
   "cell_type": "code",
   "execution_count": 40,
   "metadata": {
    "scrolled": false
   },
   "outputs": [],
   "source": [
    "import pandas as pd\n",
    "PATH = \"/home/biennt/Documents/Source_code/sparkProject/codeSpark\"\n",
    "data = sc.textFile(PATH+\"/data/german.data\")\n",
    "data1 = pd.read_csv(PATH+\"/data/germancredit.csv\",header=None, names=cols)\n"
   ]
  },
  {
   "cell_type": "code",
   "execution_count": 61,
   "metadata": {
    "scrolled": true
   },
   "outputs": [],
   "source": [
    "\n",
    "\n",
    "splited = data.flatMap(lambda file: file.split(\"\\n\")) \\\n",
    "                .map(lambda lines: lines.split(\" \"))\n",
    "#                 .map(lambda lines: [float(i) for i in lines]) \\\n",
    "#                 .map(lambda lines: [lines[0], lines[1]-1, lines[2], \\\n",
    "#                                     lines[3], lines[4], lines[5], \\\n",
    "#                                     lines[6]-1, lines[7]-1, lines[8], \\\n",
    "#                                     lines[9]-1, lines[10]-1, lines[11]-1, \\\n",
    "#                                     lines[12]-1, lines[13], lines[14]-1, \\\n",
    "#                                     lines[15]-1,lines[16]-1, lines[17]-1, \\\n",
    "#                                     lines[18]-1, lines[19]-1, lines[20]-1 \\\n",
    "#                                    ])\n",
    "                \n",
    "# splited.collect()"
   ]
  },
  {
   "cell_type": "code",
   "execution_count": 35,
   "metadata": {
    "scrolled": false
   },
   "outputs": [],
   "source": [
    "cols = ['balance', \n",
    "        'duration',\n",
    "        'history',\n",
    "        'purpose',\n",
    "        'credit_amount',\n",
    "        'savings',\n",
    "        'employment',\n",
    "        'instPercent',\n",
    "        'sexMarried',\n",
    "        'guarantors',\n",
    "        'residence',\n",
    "        'assets',\n",
    "        'age',\n",
    "        'conc_credit',\n",
    "        'housing',\n",
    "        'credits',\n",
    "        'job',\n",
    "        'dependents',\n",
    "        'hasPhone',\n",
    "        'foreign',\n",
    "        'credibility'\n",
    "        ]"
   ]
  },
  {
   "cell_type": "code",
   "execution_count": 36,
   "metadata": {
    "scrolled": false
   },
   "outputs": [
    {
     "data": {
      "text/plain": [
       "DataFrame[balance: string, duration: string, history: string, purpose: string, credit_amount: string, savings: string, employment: string, instPercent: string, sexMarried: string, guarantors: string, residence: string, assets: string, age: string, conc_credit: string, housing: string, credits: string, job: string, dependents: string, hasPhone: string, foreign: string, credibility: string]"
      ]
     },
     "metadata": {},
     "output_type": "display_data"
    }
   ],
   "source": [
    "df = splited.toDF(cols)\n",
    "display(df)"
   ]
  },
  {
   "cell_type": "code",
   "execution_count": 89,
   "metadata": {
    "scrolled": false
   },
   "outputs": [],
   "source": [
    "from pyspark.ml.feature import StringIndexer\n",
    "INDEXED = '_indexed'\n",
    "\n",
    "for idx, val in enumerate(cols):\n",
    "    if idx in [1,4,7,10,12,15,17]:\n",
    "        df = df.withColumn(val, df[val].cast(FloatType()))\n",
    "\n",
    "balance = StringIndexer(inputCol=cols[0], outputCol=cols[0]+ INDEXED)\n",
    "\n",
    "history = StringIndexer(inputCol=cols[2], outputCol=cols[2]+ INDEXED)\n",
    "\n",
    "purpose = StringIndexer(inputCol=cols[3], outputCol=cols[3]+ INDEXED)\n",
    "\n",
    "savings = StringIndexer(inputCol=cols[5], outputCol=cols[5]+ INDEXED)\n",
    "\n",
    "employment = StringIndexer(inputCol=cols[6], outputCol=cols[6]+ INDEXED)\n",
    "\n",
    "sexMarried = StringIndexer(inputCol=cols[8], outputCol=cols[8]+ INDEXED)\n",
    "\n",
    "guarantors = StringIndexer(inputCol=cols[9], outputCol=cols[9]+ INDEXED)\n",
    "\n",
    "assets = StringIndexer(inputCol=cols[11], outputCol=cols[11]+ INDEXED)\n",
    "\n",
    "conc_credit = StringIndexer(inputCol=cols[13], outputCol=cols[13]+ INDEXED)\n",
    "\n",
    "housing = StringIndexer(inputCol=cols[14], outputCol=cols[14]+ INDEXED)\n",
    "\n",
    "job = StringIndexer(inputCol=cols[16], outputCol=cols[16]+ INDEXED)\n",
    "\n",
    "hasPhone = StringIndexer(inputCol=cols[18], outputCol=cols[18]+ INDEXED)\n",
    "\n",
    "foreign = StringIndexer(inputCol=cols[19], outputCol=cols[19]+ INDEXED)\n",
    "\n",
    "credibility = StringIndexer(inputCol=cols[20], outputCol=cols[20]+ INDEXED)\n",
    "\n"
   ]
  },
  {
   "cell_type": "code",
   "execution_count": 90,
   "metadata": {},
   "outputs": [],
   "source": [
    "indexedCols = ['balance_indexed',\n",
    "               'duration',\n",
    "               'history_indexed',\n",
    "               'purpose_indexed',\n",
    "               'credit_amount',\n",
    "               'savings_indexed',\n",
    "               'employment_indexed',\n",
    "               'instPercent',\n",
    "               'sexMarried_indexed',\n",
    "               'guarantors_indexed',\n",
    "               'residence',\n",
    "               'assets_indexed',\n",
    "               'age',\n",
    "               'conc_credit_indexed',\n",
    "               'housing_indexed',\n",
    "               'credits',\n",
    "               'job_indexed',\n",
    "               'dependents',\n",
    "               'hasPhone_indexed',\n",
    "               'foreign_indexed',\n",
    "               'credibility_indexed'\n",
    "]"
   ]
  },
  {
   "cell_type": "code",
   "execution_count": 91,
   "metadata": {
    "scrolled": false
   },
   "outputs": [
    {
     "name": "stdout",
     "output_type": "stream",
     "text": [
      "+---------------+--------+---------------+---------------+-------------+---------------+------------------+-----------+------------------+------------------+---------+--------------+----+-------------------+---------------+-------+-----------+----------+----------------+---------------+-------------------+\n",
      "|balance_indexed|duration|history_indexed|purpose_indexed|credit_amount|savings_indexed|employment_indexed|instPercent|sexMarried_indexed|guarantors_indexed|residence|assets_indexed| age|conc_credit_indexed|housing_indexed|credits|job_indexed|dependents|hasPhone_indexed|foreign_indexed|credibility_indexed|\n",
      "+---------------+--------+---------------+---------------+-------------+---------------+------------------+-----------+------------------+------------------+---------+--------------+----+-------------------+---------------+-------+-----------+----------+----------------+---------------+-------------------+\n",
      "|            1.0|     6.0|            1.0|            0.0|       1169.0|            1.0|               1.0|        4.0|               0.0|               0.0|      4.0|           1.0|67.0|                0.0|            0.0|    2.0|        0.0|       1.0|             1.0|            0.0|                0.0|\n",
      "|            2.0|    48.0|            0.0|            0.0|       5951.0|            0.0|               0.0|        2.0|               1.0|               0.0|      2.0|           1.0|22.0|                0.0|            0.0|    1.0|        0.0|       1.0|             0.0|            0.0|                1.0|\n",
      "|            0.0|    12.0|            1.0|            5.0|       2096.0|            0.0|               2.0|        2.0|               0.0|               0.0|      3.0|           1.0|49.0|                0.0|            0.0|    1.0|        1.0|       2.0|             0.0|            0.0|                0.0|\n",
      "|            1.0|    42.0|            0.0|            2.0|       7882.0|            0.0|               2.0|        2.0|               0.0|               1.0|      4.0|           2.0|45.0|                0.0|            2.0|    1.0|        0.0|       2.0|             0.0|            0.0|                0.0|\n",
      "|            1.0|    24.0|            2.0|            1.0|       4870.0|            0.0|               0.0|        3.0|               0.0|               0.0|      4.0|           3.0|53.0|                0.0|            2.0|    2.0|        0.0|       2.0|             0.0|            0.0|                1.0|\n",
      "+---------------+--------+---------------+---------------+-------------+---------------+------------------+-----------+------------------+------------------+---------+--------------+----+-------------------+---------------+-------+-----------+----------+----------------+---------------+-------------------+\n",
      "only showing top 5 rows\n",
      "\n"
     ]
    }
   ],
   "source": [
    "balance_model = balance.fit(df).transform(df)\n",
    "history_model = history.fit(df).transform(balance_model)\n",
    "purpose_model = purpose.fit(df).transform(history_model)\n",
    "savings_model = savings.fit(df).transform(purpose_model)\n",
    "employment_model = employment.fit(df).transform(savings_model)\n",
    "sexMarried_model = sexMarried.fit(df).transform(employment_model)\n",
    "guarantors_model = guarantors.fit(df).transform(sexMarried_model)\n",
    "assets_model = assets.fit(df).transform(guarantors_model)\n",
    "conc_credit_model = conc_credit.fit(df).transform(assets_model)\n",
    "housing_model = housing.fit(df).transform(conc_credit_model)\n",
    "job_model = job.fit(df).transform(housing_model)\n",
    "hasPhone_model = hasPhone.fit(df).transform(job_model)\n",
    "foreign_model = foreign.fit(df).transform(hasPhone_model)\n",
    "credibility_model = credibility.fit(df).transform(foreign_model)\n",
    "data_prepared = credibility_model.select(indexedCols)\n",
    "\n",
    "data_prepared.show(5)"
   ]
  },
  {
   "cell_type": "code",
   "execution_count": 92,
   "metadata": {
    "scrolled": true
   },
   "outputs": [],
   "source": [
    "featureCols = ['balance_indexed',\n",
    "               'duration',\n",
    "               'history_indexed',\n",
    "               'purpose_indexed',\n",
    "               'credit_amount',\n",
    "               'savings_indexed',\n",
    "               'employment_indexed',\n",
    "               'instPercent',\n",
    "               'sexMarried_indexed',\n",
    "               'guarantors_indexed',\n",
    "               'residence',\n",
    "               'assets_indexed',\n",
    "               'age',\n",
    "               'conc_credit_indexed',\n",
    "               'housing_indexed',\n",
    "               'credits',\n",
    "               'job_indexed',\n",
    "               'dependents',\n",
    "               'hasPhone_indexed',\n",
    "               'foreign_indexed'\n",
    "]"
   ]
  },
  {
   "cell_type": "code",
   "execution_count": 93,
   "metadata": {
    "scrolled": false
   },
   "outputs": [
    {
     "name": "stdout",
     "output_type": "stream",
     "text": [
      "+---------------+--------+---------------+---------------+-------------+---------------+------------------+-----------+------------------+------------------+---------+--------------+----+-------------------+---------------+-------+-----------+----------+----------------+---------------+-------------------+--------------------+------------+\n",
      "|balance_indexed|duration|history_indexed|purpose_indexed|credit_amount|savings_indexed|employment_indexed|instPercent|sexMarried_indexed|guarantors_indexed|residence|assets_indexed| age|conc_credit_indexed|housing_indexed|credits|job_indexed|dependents|hasPhone_indexed|foreign_indexed|credibility_indexed|     indexedFeatures|indexedLabel|\n",
      "+---------------+--------+---------------+---------------+-------------+---------------+------------------+-----------+------------------+------------------+---------+--------------+----+-------------------+---------------+-------+-----------+----------+----------------+---------------+-------------------+--------------------+------------+\n",
      "|            1.0|     6.0|            1.0|            0.0|       1169.0|            1.0|               1.0|        4.0|               0.0|               0.0|      4.0|           1.0|67.0|                0.0|            0.0|    2.0|        0.0|       1.0|             1.0|            0.0|                0.0|[1.0,6.0,1.0,0.0,...|         0.0|\n",
      "|            2.0|    48.0|            0.0|            0.0|       5951.0|            0.0|               0.0|        2.0|               1.0|               0.0|      2.0|           1.0|22.0|                0.0|            0.0|    1.0|        0.0|       1.0|             0.0|            0.0|                1.0|(20,[0,1,4,7,8,10...|         1.0|\n",
      "|            0.0|    12.0|            1.0|            5.0|       2096.0|            0.0|               2.0|        2.0|               0.0|               0.0|      3.0|           1.0|49.0|                0.0|            0.0|    1.0|        1.0|       2.0|             0.0|            0.0|                0.0|(20,[1,2,3,4,6,7,...|         0.0|\n",
      "|            1.0|    42.0|            0.0|            2.0|       7882.0|            0.0|               2.0|        2.0|               0.0|               1.0|      4.0|           2.0|45.0|                0.0|            2.0|    1.0|        0.0|       2.0|             0.0|            0.0|                0.0|[1.0,42.0,0.0,2.0...|         0.0|\n",
      "|            1.0|    24.0|            2.0|            1.0|       4870.0|            0.0|               0.0|        3.0|               0.0|               0.0|      4.0|           3.0|53.0|                0.0|            2.0|    2.0|        0.0|       2.0|             0.0|            0.0|                1.0|(20,[0,1,2,3,4,7,...|         1.0|\n",
      "|            0.0|    36.0|            0.0|            5.0|       9055.0|            1.0|               0.0|        2.0|               0.0|               0.0|      4.0|           3.0|35.0|                0.0|            2.0|    1.0|        1.0|       2.0|             1.0|            0.0|                0.0|[0.0,36.0,0.0,5.0...|         0.0|\n",
      "|            0.0|    24.0|            0.0|            2.0|       2835.0|            3.0|               1.0|        3.0|               0.0|               0.0|      4.0|           2.0|53.0|                0.0|            0.0|    1.0|        0.0|       1.0|             0.0|            0.0|                0.0|(20,[1,3,4,5,6,7,...|         0.0|\n",
      "|            2.0|    36.0|            0.0|            3.0|       6948.0|            0.0|               0.0|        2.0|               0.0|               0.0|      2.0|           0.0|35.0|                0.0|            1.0|    1.0|        2.0|       1.0|             1.0|            0.0|                0.0|(20,[0,1,3,4,7,10...|         0.0|\n",
      "|            0.0|    12.0|            0.0|            0.0|       3059.0|            4.0|               2.0|        2.0|               3.0|               0.0|      4.0|           1.0|61.0|                0.0|            0.0|    1.0|        1.0|       1.0|             0.0|            0.0|                0.0|(20,[1,4,5,6,7,8,...|         0.0|\n",
      "|            2.0|    30.0|            1.0|            1.0|       5234.0|            0.0|               4.0|        4.0|               2.0|               0.0|      2.0|           0.0|28.0|                0.0|            0.0|    2.0|        2.0|       1.0|             0.0|            0.0|                1.0|[2.0,30.0,1.0,1.0...|         1.0|\n",
      "|            2.0|    12.0|            0.0|            1.0|       1295.0|            0.0|               3.0|        3.0|               1.0|               0.0|      1.0|           0.0|25.0|                0.0|            1.0|    1.0|        0.0|       1.0|             0.0|            0.0|                1.0|(20,[0,1,3,4,6,7,...|         1.0|\n",
      "|            1.0|    48.0|            0.0|            4.0|       4308.0|            0.0|               3.0|        3.0|               1.0|               0.0|      4.0|           2.0|24.0|                0.0|            1.0|    1.0|        0.0|       1.0|             0.0|            0.0|                1.0|[1.0,48.0,0.0,4.0...|         1.0|\n",
      "|            2.0|    12.0|            0.0|            0.0|       1567.0|            0.0|               0.0|        1.0|               1.0|               0.0|      1.0|           0.0|22.0|                0.0|            0.0|    1.0|        0.0|       1.0|             1.0|            0.0|                0.0|(20,[0,1,4,7,8,10...|         0.0|\n",
      "|            1.0|    24.0|            1.0|            1.0|       1199.0|            0.0|               1.0|        4.0|               0.0|               0.0|      4.0|           0.0|60.0|                0.0|            0.0|    2.0|        1.0|       1.0|             0.0|            0.0|                1.0|(20,[0,1,2,3,4,6,...|         1.0|\n",
      "|            1.0|    15.0|            0.0|            1.0|       1403.0|            0.0|               0.0|        2.0|               1.0|               0.0|      4.0|           0.0|28.0|                0.0|            1.0|    1.0|        0.0|       1.0|             0.0|            0.0|                0.0|(20,[0,1,3,4,7,8,...|         0.0|\n",
      "|            1.0|    24.0|            0.0|            0.0|       1282.0|            2.0|               0.0|        4.0|               1.0|               0.0|      2.0|           0.0|32.0|                0.0|            0.0|    1.0|        1.0|       1.0|             0.0|            0.0|                1.0|(20,[0,1,4,5,7,8,...|         1.0|\n",
      "|            0.0|    24.0|            1.0|            0.0|       2424.0|            1.0|               1.0|        4.0|               0.0|               0.0|      4.0|           2.0|53.0|                0.0|            0.0|    2.0|        0.0|       1.0|             0.0|            0.0|                0.0|(20,[1,2,4,5,6,7,...|         0.0|\n",
      "|            1.0|    30.0|            4.0|            4.0|       8072.0|            1.0|               3.0|        2.0|               0.0|               0.0|      3.0|           0.0|25.0|                1.0|            0.0|    3.0|        0.0|       1.0|             0.0|            0.0|                0.0|[1.0,30.0,4.0,4.0...|         0.0|\n",
      "|            2.0|    24.0|            0.0|            3.0|      12579.0|            0.0|               1.0|        4.0|               1.0|               0.0|      2.0|           3.0|44.0|                0.0|            2.0|    1.0|        2.0|       1.0|             1.0|            0.0|                1.0|[2.0,24.0,0.0,3.0...|         1.0|\n",
      "|            0.0|    24.0|            0.0|            0.0|       3430.0|            3.0|               1.0|        3.0|               0.0|               0.0|      2.0|           0.0|31.0|                0.0|            0.0|    1.0|        0.0|       2.0|             1.0|            0.0|                0.0|(20,[1,4,5,6,7,10...|         0.0|\n",
      "+---------------+--------+---------------+---------------+-------------+---------------+------------------+-----------+------------------+------------------+---------+--------------+----+-------------------+---------------+-------+-----------+----------+----------------+---------------+-------------------+--------------------+------------+\n",
      "only showing top 20 rows\n",
      "\n"
     ]
    }
   ],
   "source": [
    "from pyspark.ml.feature import VectorAssembler, StringIndexer\n",
    "\n",
    "assembler = VectorAssembler(inputCols=featureCols, outputCol=\"indexedFeatures\")\n",
    "df2 = assembler.transform(data_prepared)\n",
    "labelIndexer = StringIndexer(inputCol=\"credibility_indexed\", outputCol=\"indexedLabel\")\n",
    "data = labelIndexer.fit(df2).transform(df2)\n",
    "\n",
    "data.show()"
   ]
  },
  {
   "cell_type": "code",
   "execution_count": 94,
   "metadata": {
    "scrolled": true
   },
   "outputs": [],
   "source": [
    "(trainingData, testData) = data.randomSplit([0.7, 0.3])"
   ]
  },
  {
   "cell_type": "code",
   "execution_count": 95,
   "metadata": {
    "scrolled": false
   },
   "outputs": [],
   "source": [
    "from pyspark.ml import Pipeline\n",
    "from pyspark.ml.classification import DecisionTreeClassifier\n",
    "\n",
    "dt = DecisionTreeClassifier(labelCol=\"indexedLabel\", featuresCol=\"indexedFeatures\")\n"
   ]
  },
  {
   "cell_type": "code",
   "execution_count": 96,
   "metadata": {
    "scrolled": false
   },
   "outputs": [
    {
     "name": "stdout",
     "output_type": "stream",
     "text": [
      "+----------+------------+--------------------+\n",
      "|prediction|indexedLabel|     indexedFeatures|\n",
      "+----------+------------+--------------------+\n",
      "|       0.0|         0.0|(20,[1,2,4,6,7,10...|\n",
      "|       0.0|         0.0|(20,[1,3,4,6,7,10...|\n",
      "|       0.0|         0.0|(20,[1,3,4,7,9,10...|\n",
      "|       0.0|         0.0|(20,[1,3,4,7,8,10...|\n",
      "|       0.0|         0.0|[0.0,6.0,0.0,9.0,...|\n",
      "+----------+------------+--------------------+\n",
      "only showing top 5 rows\n",
      "\n"
     ]
    }
   ],
   "source": [
    "model = dt.fit(trainingData)\n",
    "predictions = model.transform(testData)\n",
    "\n",
    "\n",
    "predictions.select([\"prediction\", \"indexedLabel\",\"indexedFeatures\"]).show(5)\n",
    "\n"
   ]
  },
  {
   "cell_type": "code",
   "execution_count": 97,
   "metadata": {
    "scrolled": false
   },
   "outputs": [
    {
     "name": "stdout",
     "output_type": "stream",
     "text": [
      "DecisionTreeClassificationModel (uid=DecisionTreeClassifier_ab21008e300f) of depth 5 with 43 nodes\n",
      "  If (feature 0 in {0.0,3.0})\n",
      "   If (feature 13 in {1.0,2.0})\n",
      "    If (feature 3 in {0.0,2.0,3.0,5.0})\n",
      "     If (feature 4 <= 10294.0)\n",
      "      Predict: 0.0\n",
      "     Else (feature 4 > 10294.0)\n",
      "      Predict: 1.0\n",
      "    Else (feature 3 not in {0.0,2.0,3.0,5.0})\n",
      "     If (feature 10 <= 1.5)\n",
      "      Predict: 0.0\n",
      "     Else (feature 10 > 1.5)\n",
      "      If (feature 12 <= 44.5)\n",
      "       Predict: 1.0\n",
      "      Else (feature 12 > 44.5)\n",
      "       Predict: 0.0\n",
      "   Else (feature 13 not in {1.0,2.0})\n",
      "    If (feature 12 <= 22.5)\n",
      "     If (feature 5 in {1.0,2.0,3.0})\n",
      "      Predict: 0.0\n",
      "     Else (feature 5 not in {1.0,2.0,3.0})\n",
      "      If (feature 7 <= 2.5)\n",
      "       Predict: 0.0\n",
      "      Else (feature 7 > 2.5)\n",
      "       Predict: 1.0\n",
      "    Else (feature 12 > 22.5)\n",
      "     If (feature 4 <= 4126.0)\n",
      "      Predict: 0.0\n",
      "     Else (feature 4 > 4126.0)\n",
      "      If (feature 6 in {0.0,1.0,2.0,4.0})\n",
      "       Predict: 0.0\n",
      "      Else (feature 6 not in {0.0,1.0,2.0,4.0})\n",
      "       Predict: 1.0\n",
      "  Else (feature 0 not in {0.0,3.0})\n",
      "   If (feature 1 <= 22.5)\n",
      "    If (feature 2 in {2.0,3.0,4.0})\n",
      "     If (feature 3 in {0.0,3.0,4.0,9.0})\n",
      "      Predict: 0.0\n",
      "     Else (feature 3 not in {0.0,3.0,4.0,9.0})\n",
      "      If (feature 7 <= 1.5)\n",
      "       Predict: 0.0\n",
      "      Else (feature 7 > 1.5)\n",
      "       Predict: 1.0\n",
      "    Else (feature 2 not in {2.0,3.0,4.0})\n",
      "     If (feature 4 <= 8157.5)\n",
      "      Predict: 0.0\n",
      "     Else (feature 4 > 8157.5)\n",
      "      Predict: 1.0\n",
      "   Else (feature 1 > 22.5)\n",
      "    If (feature 5 in {1.0,3.0,4.0})\n",
      "     If (feature 0 in {2.0})\n",
      "      Predict: 0.0\n",
      "     Else (feature 0 not in {2.0})\n",
      "      If (feature 12 <= 26.5)\n",
      "       Predict: 0.0\n",
      "      Else (feature 12 > 26.5)\n",
      "       Predict: 1.0\n",
      "    Else (feature 5 not in {1.0,3.0,4.0})\n",
      "     If (feature 3 in {2.0,3.0,5.0,6.0,7.0,8.0})\n",
      "      If (feature 4 <= 8157.5)\n",
      "       Predict: 0.0\n",
      "      Else (feature 4 > 8157.5)\n",
      "       Predict: 1.0\n",
      "     Else (feature 3 not in {2.0,3.0,5.0,6.0,7.0,8.0})\n",
      "      Predict: 1.0\n",
      "\n"
     ]
    }
   ],
   "source": [
    "print(model.toDebugString)"
   ]
  },
  {
   "cell_type": "code",
   "execution_count": 98,
   "metadata": {
    "scrolled": false
   },
   "outputs": [
    {
     "name": "stdout",
     "output_type": "stream",
     "text": [
      "Test Error = 0.254019 \n"
     ]
    }
   ],
   "source": [
    "from pyspark.ml.evaluation import MulticlassClassificationEvaluator\n",
    "\n",
    "evaluator = MulticlassClassificationEvaluator(\n",
    "    labelCol=\"indexedLabel\", predictionCol=\"prediction\", metricName=\"accuracy\")\n",
    "accuracy = evaluator.evaluate(predictions)\n",
    "print(\"Test Error = %g \" % (1.0 - accuracy))\n",
    "\n"
   ]
  },
  {
   "cell_type": "code",
   "execution_count": null,
   "metadata": {
    "scrolled": false
   },
   "outputs": [],
   "source": []
  }
 ],
 "metadata": {
  "kernelspec": {
   "display_name": "Python 3",
   "language": "python",
   "name": "python3"
  },
  "language_info": {
   "codemirror_mode": {
    "name": "ipython",
    "version": 3
   },
   "file_extension": ".py",
   "mimetype": "text/x-python",
   "name": "python",
   "nbconvert_exporter": "python",
   "pygments_lexer": "ipython3",
   "version": "3.7.3"
  }
 },
 "nbformat": 4,
 "nbformat_minor": 2
}
