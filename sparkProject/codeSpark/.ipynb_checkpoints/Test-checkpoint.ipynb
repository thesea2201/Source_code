{
 "cells": [
  {
   "cell_type": "code",
   "execution_count": null,
   "metadata": {
    "scrolled": false
   },
   "outputs": [],
   "source": [
    "credibility,\n",
    "balance, \n",
    "duration,\n",
    "history,\n",
    "purpose,\n",
    "credit_amount,\n",
    "savings,\n",
    "employment,\n",
    "instPercent,\n",
    "sexMarried,\n",
    "guarantors,\n",
    "residence,\n",
    "assets,\n",
    "age,\n",
    "conc_credit,\n",
    "housing,\n",
    "credits,\n",
    "job,\n",
    "dependents,\n",
    "has_phone,\n",
    "foreign"
   ]
  },
  {
   "cell_type": "code",
   "execution_count": 40,
   "metadata": {
    "scrolled": false
   },
   "outputs": [],
   "source": [
    "import pandas as pd\n",
    "PATH = \"/home/biennt/Documents/Source_code/sparkProject/codeSpark\"\n",
    "data = sc.textFile(PATH+\"/data/german.data\")\n",
    "data1 = pd.read_csv(PATH+\"/data/germancredit.csv\",header=None, names=cols)\n"
   ]
  },
  {
   "cell_type": "code",
   "execution_count": 41,
   "metadata": {
    "scrolled": true
   },
   "outputs": [],
   "source": [
    "\n",
    "\n",
    "splited = data.flatMap(lambda file: file.split(\"\\n\")) \\\n",
    "                .map(lambda lines: lines.split(\" \")) \n",
    "#                 .map(lambda lines: [if float(i) for i in lines]) \\\n",
    "#                 .map(lambda lines: [lines[0], lines[1]-1, lines[2], \\\n",
    "#                                     lines[3], lines[4], lines[5], \\\n",
    "#                                     lines[6]-1, lines[7]-1, lines[8], \\\n",
    "#                                     lines[9]-1, lines[10]-1, lines[11]-1, \\\n",
    "#                                     lines[12]-1, lines[13], lines[14]-1, \\\n",
    "#                                     lines[15]-1,lines[16]-1, lines[17]-1, \\\n",
    "#                                     lines[18]-1, lines[19]-1, lines[20]-1 \\\n",
    "#                                    ])\n",
    "# splited.collect()"
   ]
  },
  {
   "cell_type": "code",
   "execution_count": 35,
   "metadata": {
    "scrolled": false
   },
   "outputs": [],
   "source": [
    "cols = ['balance', \n",
    "        'duration',\n",
    "        'history',\n",
    "        'purpose',\n",
    "        'credit_amount',\n",
    "        'savings',\n",
    "        'employment',\n",
    "        'instPercent',\n",
    "        'sexMarried',\n",
    "        'guarantors',\n",
    "        'residence',\n",
    "        'assets',\n",
    "        'age',\n",
    "        'conc_credit',\n",
    "        'housing',\n",
    "        'credits',\n",
    "        'job',\n",
    "        'dependents',\n",
    "        'hasPhone',\n",
    "        'foreign',\n",
    "        'credibility'\n",
    "        ]"
   ]
  },
  {
   "cell_type": "code",
   "execution_count": 36,
   "metadata": {
    "scrolled": false
   },
   "outputs": [
    {
     "data": {
      "text/plain": [
       "DataFrame[balance: string, duration: string, history: string, purpose: string, credit_amount: string, savings: string, employment: string, instPercent: string, sexMarried: string, guarantors: string, residence: string, assets: string, age: string, conc_credit: string, housing: string, credits: string, job: string, dependents: string, hasPhone: string, foreign: string, credibility: string]"
      ]
     },
     "metadata": {},
     "output_type": "display_data"
    }
   ],
   "source": [
    "df = splited.toDF(cols)\n",
    "display(df)"
   ]
  },
  {
   "cell_type": "code",
   "execution_count": 42,
   "metadata": {
    "scrolled": false
   },
   "outputs": [],
   "source": [
    "from pyspark.ml.feature import StringIndexer\n",
    "INDEXED = '_indexed'\n",
    "\n",
    "balance = StringIndexer(inputCol=cols[0], outputCol=cols[0]+ INDEXED)\n",
    "\n",
    "history = StringIndexer(inputCol=cols[2], outputCol=cols[2]+ INDEXED)\n",
    "\n",
    "purpose = StringIndexer(inputCol=cols[3], outputCol=cols[3]+ INDEXED)\n",
    "\n",
    "savings = StringIndexer(inputCol=cols[5], outputCol=cols[5]+ INDEXED)\n",
    "\n",
    "employment = StringIndexer(inputCol=cols[6], outputCol=cols[6]+ INDEXED)\n",
    "\n",
    "sexMarried = StringIndexer(inputCol=cols[8], outputCol=cols[8]+ INDEXED)\n",
    "\n",
    "guarantors = StringIndexer(inputCol=cols[9], outputCol=cols[9]+ INDEXED)\n",
    "\n",
    "assets = StringIndexer(inputCol=cols[11], outputCol=cols[11]+ INDEXED)\n",
    "\n",
    "conc_credit = StringIndexer(inputCol=cols[13], outputCol=cols[13]+ INDEXED)\n",
    "\n",
    "housing = StringIndexer(inputCol=cols[14], outputCol=cols[14]+ INDEXED)\n",
    "\n",
    "job = StringIndexer(inputCol=cols[16], outputCol=cols[16]+ INDEXED)\n",
    "\n",
    "hasPhone = StringIndexer(inputCol=cols[18], outputCol=cols[18]+ INDEXED)\n",
    "\n",
    "foreign = StringIndexer(inputCol=cols[19], outputCol=cols[19]+ INDEXED)\n",
    "\n",
    "credibility = StringIndexer(inputCol=cols[20], outputCol=cols[20]+ INDEXED)\n",
    "\n"
   ]
  },
  {
   "cell_type": "code",
   "execution_count": 46,
   "metadata": {
    "scrolled": false
   },
   "outputs": [
    {
     "name": "stdout",
     "output_type": "stream",
     "text": [
      "+-------+--------+-------+-------+-------------+-------+----------+-----------+----------+----------+---------+------+---+-----------+-------+-------+----+----------+--------+-------+-----------+---------------+---------------+---------------+---------------+------------------+------------------+------------------+--------------+-------------------+---------------+-----------+----------------+---------------+-------------------+\n",
      "|balance|duration|history|purpose|credit_amount|savings|employment|instPercent|sexMarried|guarantors|residence|assets|age|conc_credit|housing|credits| job|dependents|hasPhone|foreign|credibility|balance_indexed|history_indexed|purpose_indexed|savings_indexed|employment_indexed|sexMarried_indexed|guarantors_indexed|assets_indexed|conc_credit_indexed|housing_indexed|job_indexed|hasPhone_indexed|foreign_indexed|credibility_indexed|\n",
      "+-------+--------+-------+-------+-------------+-------+----------+-----------+----------+----------+---------+------+---+-----------+-------+-------+----+----------+--------+-------+-----------+---------------+---------------+---------------+---------------+------------------+------------------+------------------+--------------+-------------------+---------------+-----------+----------------+---------------+-------------------+\n",
      "|    A11|       6|    A34|    A43|         1169|    A65|       A75|          4|       A93|      A101|        4|  A121| 67|       A143|   A152|      2|A173|         1|    A192|   A201|          1|            1.0|            1.0|            0.0|            1.0|               1.0|               0.0|               0.0|           1.0|                0.0|            0.0|        0.0|             1.0|            0.0|                0.0|\n",
      "|    A12|      48|    A32|    A43|         5951|    A61|       A73|          2|       A92|      A101|        2|  A121| 22|       A143|   A152|      1|A173|         1|    A191|   A201|          2|            2.0|            0.0|            0.0|            0.0|               0.0|               1.0|               0.0|           1.0|                0.0|            0.0|        0.0|             0.0|            0.0|                1.0|\n",
      "|    A14|      12|    A34|    A46|         2096|    A61|       A74|          2|       A93|      A101|        3|  A121| 49|       A143|   A152|      1|A172|         2|    A191|   A201|          1|            0.0|            1.0|            5.0|            0.0|               2.0|               0.0|               0.0|           1.0|                0.0|            0.0|        1.0|             0.0|            0.0|                0.0|\n",
      "|    A11|      42|    A32|    A42|         7882|    A61|       A74|          2|       A93|      A103|        4|  A122| 45|       A143|   A153|      1|A173|         2|    A191|   A201|          1|            1.0|            0.0|            2.0|            0.0|               2.0|               0.0|               1.0|           2.0|                0.0|            2.0|        0.0|             0.0|            0.0|                0.0|\n",
      "|    A11|      24|    A33|    A40|         4870|    A61|       A73|          3|       A93|      A101|        4|  A124| 53|       A143|   A153|      2|A173|         2|    A191|   A201|          2|            1.0|            2.0|            1.0|            0.0|               0.0|               0.0|               0.0|           3.0|                0.0|            2.0|        0.0|             0.0|            0.0|                1.0|\n",
      "|    A14|      36|    A32|    A46|         9055|    A65|       A73|          2|       A93|      A101|        4|  A124| 35|       A143|   A153|      1|A172|         2|    A192|   A201|          1|            0.0|            0.0|            5.0|            1.0|               0.0|               0.0|               0.0|           3.0|                0.0|            2.0|        1.0|             1.0|            0.0|                0.0|\n",
      "|    A14|      24|    A32|    A42|         2835|    A63|       A75|          3|       A93|      A101|        4|  A122| 53|       A143|   A152|      1|A173|         1|    A191|   A201|          1|            0.0|            0.0|            2.0|            3.0|               1.0|               0.0|               0.0|           2.0|                0.0|            0.0|        0.0|             0.0|            0.0|                0.0|\n",
      "|    A12|      36|    A32|    A41|         6948|    A61|       A73|          2|       A93|      A101|        2|  A123| 35|       A143|   A151|      1|A174|         1|    A192|   A201|          1|            2.0|            0.0|            3.0|            0.0|               0.0|               0.0|               0.0|           0.0|                0.0|            1.0|        2.0|             1.0|            0.0|                0.0|\n",
      "|    A14|      12|    A32|    A43|         3059|    A64|       A74|          2|       A91|      A101|        4|  A121| 61|       A143|   A152|      1|A172|         1|    A191|   A201|          1|            0.0|            0.0|            0.0|            4.0|               2.0|               3.0|               0.0|           1.0|                0.0|            0.0|        1.0|             0.0|            0.0|                0.0|\n",
      "|    A12|      30|    A34|    A40|         5234|    A61|       A71|          4|       A94|      A101|        2|  A123| 28|       A143|   A152|      2|A174|         1|    A191|   A201|          2|            2.0|            1.0|            1.0|            0.0|               4.0|               2.0|               0.0|           0.0|                0.0|            0.0|        2.0|             0.0|            0.0|                1.0|\n",
      "|    A12|      12|    A32|    A40|         1295|    A61|       A72|          3|       A92|      A101|        1|  A123| 25|       A143|   A151|      1|A173|         1|    A191|   A201|          2|            2.0|            0.0|            1.0|            0.0|               3.0|               1.0|               0.0|           0.0|                0.0|            1.0|        0.0|             0.0|            0.0|                1.0|\n",
      "|    A11|      48|    A32|    A49|         4308|    A61|       A72|          3|       A92|      A101|        4|  A122| 24|       A143|   A151|      1|A173|         1|    A191|   A201|          2|            1.0|            0.0|            4.0|            0.0|               3.0|               1.0|               0.0|           2.0|                0.0|            1.0|        0.0|             0.0|            0.0|                1.0|\n",
      "|    A12|      12|    A32|    A43|         1567|    A61|       A73|          1|       A92|      A101|        1|  A123| 22|       A143|   A152|      1|A173|         1|    A192|   A201|          1|            2.0|            0.0|            0.0|            0.0|               0.0|               1.0|               0.0|           0.0|                0.0|            0.0|        0.0|             1.0|            0.0|                0.0|\n",
      "|    A11|      24|    A34|    A40|         1199|    A61|       A75|          4|       A93|      A101|        4|  A123| 60|       A143|   A152|      2|A172|         1|    A191|   A201|          2|            1.0|            1.0|            1.0|            0.0|               1.0|               0.0|               0.0|           0.0|                0.0|            0.0|        1.0|             0.0|            0.0|                1.0|\n",
      "|    A11|      15|    A32|    A40|         1403|    A61|       A73|          2|       A92|      A101|        4|  A123| 28|       A143|   A151|      1|A173|         1|    A191|   A201|          1|            1.0|            0.0|            1.0|            0.0|               0.0|               1.0|               0.0|           0.0|                0.0|            1.0|        0.0|             0.0|            0.0|                0.0|\n",
      "|    A11|      24|    A32|    A43|         1282|    A62|       A73|          4|       A92|      A101|        2|  A123| 32|       A143|   A152|      1|A172|         1|    A191|   A201|          2|            1.0|            0.0|            0.0|            2.0|               0.0|               1.0|               0.0|           0.0|                0.0|            0.0|        1.0|             0.0|            0.0|                1.0|\n",
      "|    A14|      24|    A34|    A43|         2424|    A65|       A75|          4|       A93|      A101|        4|  A122| 53|       A143|   A152|      2|A173|         1|    A191|   A201|          1|            0.0|            1.0|            0.0|            1.0|               1.0|               0.0|               0.0|           2.0|                0.0|            0.0|        0.0|             0.0|            0.0|                0.0|\n",
      "|    A11|      30|    A30|    A49|         8072|    A65|       A72|          2|       A93|      A101|        3|  A123| 25|       A141|   A152|      3|A173|         1|    A191|   A201|          1|            1.0|            4.0|            4.0|            1.0|               3.0|               0.0|               0.0|           0.0|                1.0|            0.0|        0.0|             0.0|            0.0|                0.0|\n",
      "|    A12|      24|    A32|    A41|        12579|    A61|       A75|          4|       A92|      A101|        2|  A124| 44|       A143|   A153|      1|A174|         1|    A192|   A201|          2|            2.0|            0.0|            3.0|            0.0|               1.0|               1.0|               0.0|           3.0|                0.0|            2.0|        2.0|             1.0|            0.0|                1.0|\n",
      "|    A14|      24|    A32|    A43|         3430|    A63|       A75|          3|       A93|      A101|        2|  A123| 31|       A143|   A152|      1|A173|         2|    A192|   A201|          1|            0.0|            0.0|            0.0|            3.0|               1.0|               0.0|               0.0|           0.0|                0.0|            0.0|        0.0|             1.0|            0.0|                0.0|\n",
      "+-------+--------+-------+-------+-------------+-------+----------+-----------+----------+----------+---------+------+---+-----------+-------+-------+----+----------+--------+-------+-----------+---------------+---------------+---------------+---------------+------------------+------------------+------------------+--------------+-------------------+---------------+-----------+----------------+---------------+-------------------+\n",
      "only showing top 20 rows\n",
      "\n"
     ]
    }
   ],
   "source": [
    "balance_model = balance.fit(df).transform(df)\n",
    "history_model = history.fit(df).transform(balance_model)\n",
    "purpose_model = purpose.fit(df).transform(history_model)\n",
    "savings_model = savings.fit(df).transform(purpose_model)\n",
    "employment_model = employment.fit(df).transform(savings_model)\n",
    "sexMarried_model = sexMarried.fit(df).transform(employment_model)\n",
    "guarantors_model = guarantors.fit(df).transform(sexMarried_model)\n",
    "assets_model = assets.fit(df).transform(guarantors_model)\n",
    "conc_credit_model = conc_credit.fit(df).transform(assets_model)\n",
    "housing_model = housing.fit(df).transform(conc_credit_model)\n",
    "job_model = job.fit(df).transform(housing_model)\n",
    "hasPhone_model = hasPhone.fit(df).transform(job_model)\n",
    "foreign_model = foreign.fit(df).transform(hasPhone_model)\n",
    "data_prepared = credibility.fit(df).transform(foreign_model)\n",
    "\n",
    "data_prepared.show()"
   ]
  },
  {
   "cell_type": "code",
   "execution_count": 44,
   "metadata": {
    "scrolled": true
   },
   "outputs": [],
   "source": [
    "featureCols = ['balance_indexed',\n",
    "               'duration',\n",
    "               'history_indexed',\n",
    "               'purpose_indexed',\n",
    "               'credit_amount',\n",
    "               'savings_indexed',\n",
    "               'employment_indexed',\n",
    "               'instPercent',\n",
    "               'sexMarried_indexed',\n",
    "               'guarantors_indexed',\n",
    "               'residence',\n",
    "               'assets_indexed',\n",
    "               'age',\n",
    "               'conc_credit_indexed',\n",
    "               'housing_indexed',\n",
    "               'credits',\n",
    "               'job_indexed',\n",
    "               'dependents',\n",
    "               'hasPhone_indexed',\n",
    "               'foreign_indexed'\n",
    "]"
   ]
  },
  {
   "cell_type": "code",
   "execution_count": 47,
   "metadata": {
    "scrolled": false
   },
   "outputs": [
    {
     "ename": "IllegalArgumentException",
     "evalue": "'Data type string of column duration is not supported.\\nData type string of column credit_amount is not supported.\\nData type string of column instPercent is not supported.\\nData type string of column residence is not supported.\\nData type string of column age is not supported.\\nData type string of column credits is not supported.\\nData type string of column dependents is not supported.'",
     "output_type": "error",
     "traceback": [
      "\u001b[0;31m---------------------------------------------------------------------------\u001b[0m",
      "\u001b[0;31mPy4JJavaError\u001b[0m                             Traceback (most recent call last)",
      "\u001b[0;32m~/Documents/Source_code/sparkProject/spark-2.4.3-bin-hadoop2.7/python/pyspark/sql/utils.py\u001b[0m in \u001b[0;36mdeco\u001b[0;34m(*a, **kw)\u001b[0m\n\u001b[1;32m     62\u001b[0m         \u001b[0;32mtry\u001b[0m\u001b[0;34m:\u001b[0m\u001b[0;34m\u001b[0m\u001b[0;34m\u001b[0m\u001b[0m\n\u001b[0;32m---> 63\u001b[0;31m             \u001b[0;32mreturn\u001b[0m \u001b[0mf\u001b[0m\u001b[0;34m(\u001b[0m\u001b[0;34m*\u001b[0m\u001b[0ma\u001b[0m\u001b[0;34m,\u001b[0m \u001b[0;34m**\u001b[0m\u001b[0mkw\u001b[0m\u001b[0;34m)\u001b[0m\u001b[0;34m\u001b[0m\u001b[0;34m\u001b[0m\u001b[0m\n\u001b[0m\u001b[1;32m     64\u001b[0m         \u001b[0;32mexcept\u001b[0m \u001b[0mpy4j\u001b[0m\u001b[0;34m.\u001b[0m\u001b[0mprotocol\u001b[0m\u001b[0;34m.\u001b[0m\u001b[0mPy4JJavaError\u001b[0m \u001b[0;32mas\u001b[0m \u001b[0me\u001b[0m\u001b[0;34m:\u001b[0m\u001b[0;34m\u001b[0m\u001b[0;34m\u001b[0m\u001b[0m\n",
      "\u001b[0;32m~/Documents/Source_code/sparkProject/spark-2.4.3-bin-hadoop2.7/python/lib/py4j-0.10.7-src.zip/py4j/protocol.py\u001b[0m in \u001b[0;36mget_return_value\u001b[0;34m(answer, gateway_client, target_id, name)\u001b[0m\n\u001b[1;32m    327\u001b[0m                     \u001b[0;34m\"An error occurred while calling {0}{1}{2}.\\n\"\u001b[0m\u001b[0;34m.\u001b[0m\u001b[0;34m\u001b[0m\u001b[0;34m\u001b[0m\u001b[0m\n\u001b[0;32m--> 328\u001b[0;31m                     format(target_id, \".\", name), value)\n\u001b[0m\u001b[1;32m    329\u001b[0m             \u001b[0;32melse\u001b[0m\u001b[0;34m:\u001b[0m\u001b[0;34m\u001b[0m\u001b[0;34m\u001b[0m\u001b[0m\n",
      "\u001b[0;31mPy4JJavaError\u001b[0m: An error occurred while calling o3476.transform.\n: java.lang.IllegalArgumentException: Data type string of column duration is not supported.\nData type string of column credit_amount is not supported.\nData type string of column instPercent is not supported.\nData type string of column residence is not supported.\nData type string of column age is not supported.\nData type string of column credits is not supported.\nData type string of column dependents is not supported.\n\tat org.apache.spark.ml.feature.VectorAssembler.transformSchema(VectorAssembler.scala:169)\n\tat org.apache.spark.ml.PipelineStage.transformSchema(Pipeline.scala:74)\n\tat org.apache.spark.ml.feature.VectorAssembler.transform(VectorAssembler.scala:86)\n\tat sun.reflect.NativeMethodAccessorImpl.invoke0(Native Method)\n\tat sun.reflect.NativeMethodAccessorImpl.invoke(NativeMethodAccessorImpl.java:62)\n\tat sun.reflect.DelegatingMethodAccessorImpl.invoke(DelegatingMethodAccessorImpl.java:43)\n\tat java.lang.reflect.Method.invoke(Method.java:498)\n\tat py4j.reflection.MethodInvoker.invoke(MethodInvoker.java:244)\n\tat py4j.reflection.ReflectionEngine.invoke(ReflectionEngine.java:357)\n\tat py4j.Gateway.invoke(Gateway.java:282)\n\tat py4j.commands.AbstractCommand.invokeMethod(AbstractCommand.java:132)\n\tat py4j.commands.CallCommand.execute(CallCommand.java:79)\n\tat py4j.GatewayConnection.run(GatewayConnection.java:238)\n\tat java.lang.Thread.run(Thread.java:748)\n",
      "\nDuring handling of the above exception, another exception occurred:\n",
      "\u001b[0;31mIllegalArgumentException\u001b[0m                  Traceback (most recent call last)",
      "\u001b[0;32m<ipython-input-47-b9e9104084d5>\u001b[0m in \u001b[0;36m<module>\u001b[0;34m\u001b[0m\n\u001b[1;32m      2\u001b[0m \u001b[0;34m\u001b[0m\u001b[0m\n\u001b[1;32m      3\u001b[0m \u001b[0massembler\u001b[0m \u001b[0;34m=\u001b[0m \u001b[0mVectorAssembler\u001b[0m\u001b[0;34m(\u001b[0m\u001b[0minputCols\u001b[0m\u001b[0;34m=\u001b[0m\u001b[0mfeatureCols\u001b[0m\u001b[0;34m,\u001b[0m \u001b[0moutputCol\u001b[0m\u001b[0;34m=\u001b[0m\u001b[0;34m\"indexedFeatures\"\u001b[0m\u001b[0;34m)\u001b[0m\u001b[0;34m\u001b[0m\u001b[0;34m\u001b[0m\u001b[0m\n\u001b[0;32m----> 4\u001b[0;31m \u001b[0mdf2\u001b[0m \u001b[0;34m=\u001b[0m \u001b[0massembler\u001b[0m\u001b[0;34m.\u001b[0m\u001b[0mtransform\u001b[0m\u001b[0;34m(\u001b[0m\u001b[0mdata_prepared\u001b[0m\u001b[0;34m)\u001b[0m\u001b[0;34m\u001b[0m\u001b[0;34m\u001b[0m\u001b[0m\n\u001b[0m\u001b[1;32m      5\u001b[0m \u001b[0mlabelIndexer\u001b[0m \u001b[0;34m=\u001b[0m \u001b[0mStringIndexer\u001b[0m\u001b[0;34m(\u001b[0m\u001b[0minputCol\u001b[0m\u001b[0;34m=\u001b[0m\u001b[0;34m\"credibility_indexed\"\u001b[0m\u001b[0;34m,\u001b[0m \u001b[0moutputCol\u001b[0m\u001b[0;34m=\u001b[0m\u001b[0;34m\"indexedLabel\"\u001b[0m\u001b[0;34m)\u001b[0m\u001b[0;34m\u001b[0m\u001b[0;34m\u001b[0m\u001b[0m\n\u001b[1;32m      6\u001b[0m \u001b[0mdata\u001b[0m \u001b[0;34m=\u001b[0m \u001b[0mlabelIndexer\u001b[0m\u001b[0;34m.\u001b[0m\u001b[0mfit\u001b[0m\u001b[0;34m(\u001b[0m\u001b[0mdf2\u001b[0m\u001b[0;34m)\u001b[0m\u001b[0;34m.\u001b[0m\u001b[0mtransform\u001b[0m\u001b[0;34m(\u001b[0m\u001b[0mdf2\u001b[0m\u001b[0;34m)\u001b[0m\u001b[0;34m\u001b[0m\u001b[0;34m\u001b[0m\u001b[0m\n",
      "\u001b[0;32m~/Documents/Source_code/sparkProject/spark-2.4.3-bin-hadoop2.7/python/pyspark/ml/base.py\u001b[0m in \u001b[0;36mtransform\u001b[0;34m(self, dataset, params)\u001b[0m\n\u001b[1;32m    171\u001b[0m                 \u001b[0;32mreturn\u001b[0m \u001b[0mself\u001b[0m\u001b[0;34m.\u001b[0m\u001b[0mcopy\u001b[0m\u001b[0;34m(\u001b[0m\u001b[0mparams\u001b[0m\u001b[0;34m)\u001b[0m\u001b[0;34m.\u001b[0m\u001b[0m_transform\u001b[0m\u001b[0;34m(\u001b[0m\u001b[0mdataset\u001b[0m\u001b[0;34m)\u001b[0m\u001b[0;34m\u001b[0m\u001b[0;34m\u001b[0m\u001b[0m\n\u001b[1;32m    172\u001b[0m             \u001b[0;32melse\u001b[0m\u001b[0;34m:\u001b[0m\u001b[0;34m\u001b[0m\u001b[0;34m\u001b[0m\u001b[0m\n\u001b[0;32m--> 173\u001b[0;31m                 \u001b[0;32mreturn\u001b[0m \u001b[0mself\u001b[0m\u001b[0;34m.\u001b[0m\u001b[0m_transform\u001b[0m\u001b[0;34m(\u001b[0m\u001b[0mdataset\u001b[0m\u001b[0;34m)\u001b[0m\u001b[0;34m\u001b[0m\u001b[0;34m\u001b[0m\u001b[0m\n\u001b[0m\u001b[1;32m    174\u001b[0m         \u001b[0;32melse\u001b[0m\u001b[0;34m:\u001b[0m\u001b[0;34m\u001b[0m\u001b[0;34m\u001b[0m\u001b[0m\n\u001b[1;32m    175\u001b[0m             \u001b[0;32mraise\u001b[0m \u001b[0mValueError\u001b[0m\u001b[0;34m(\u001b[0m\u001b[0;34m\"Params must be a param map but got %s.\"\u001b[0m \u001b[0;34m%\u001b[0m \u001b[0mtype\u001b[0m\u001b[0;34m(\u001b[0m\u001b[0mparams\u001b[0m\u001b[0;34m)\u001b[0m\u001b[0;34m)\u001b[0m\u001b[0;34m\u001b[0m\u001b[0;34m\u001b[0m\u001b[0m\n",
      "\u001b[0;32m~/Documents/Source_code/sparkProject/spark-2.4.3-bin-hadoop2.7/python/pyspark/ml/wrapper.py\u001b[0m in \u001b[0;36m_transform\u001b[0;34m(self, dataset)\u001b[0m\n\u001b[1;32m    310\u001b[0m     \u001b[0;32mdef\u001b[0m \u001b[0m_transform\u001b[0m\u001b[0;34m(\u001b[0m\u001b[0mself\u001b[0m\u001b[0;34m,\u001b[0m \u001b[0mdataset\u001b[0m\u001b[0;34m)\u001b[0m\u001b[0;34m:\u001b[0m\u001b[0;34m\u001b[0m\u001b[0;34m\u001b[0m\u001b[0m\n\u001b[1;32m    311\u001b[0m         \u001b[0mself\u001b[0m\u001b[0;34m.\u001b[0m\u001b[0m_transfer_params_to_java\u001b[0m\u001b[0;34m(\u001b[0m\u001b[0;34m)\u001b[0m\u001b[0;34m\u001b[0m\u001b[0;34m\u001b[0m\u001b[0m\n\u001b[0;32m--> 312\u001b[0;31m         \u001b[0;32mreturn\u001b[0m \u001b[0mDataFrame\u001b[0m\u001b[0;34m(\u001b[0m\u001b[0mself\u001b[0m\u001b[0;34m.\u001b[0m\u001b[0m_java_obj\u001b[0m\u001b[0;34m.\u001b[0m\u001b[0mtransform\u001b[0m\u001b[0;34m(\u001b[0m\u001b[0mdataset\u001b[0m\u001b[0;34m.\u001b[0m\u001b[0m_jdf\u001b[0m\u001b[0;34m)\u001b[0m\u001b[0;34m,\u001b[0m \u001b[0mdataset\u001b[0m\u001b[0;34m.\u001b[0m\u001b[0msql_ctx\u001b[0m\u001b[0;34m)\u001b[0m\u001b[0;34m\u001b[0m\u001b[0;34m\u001b[0m\u001b[0m\n\u001b[0m\u001b[1;32m    313\u001b[0m \u001b[0;34m\u001b[0m\u001b[0m\n\u001b[1;32m    314\u001b[0m \u001b[0;34m\u001b[0m\u001b[0m\n",
      "\u001b[0;32m~/Documents/Source_code/sparkProject/spark-2.4.3-bin-hadoop2.7/python/lib/py4j-0.10.7-src.zip/py4j/java_gateway.py\u001b[0m in \u001b[0;36m__call__\u001b[0;34m(self, *args)\u001b[0m\n\u001b[1;32m   1255\u001b[0m         \u001b[0manswer\u001b[0m \u001b[0;34m=\u001b[0m \u001b[0mself\u001b[0m\u001b[0;34m.\u001b[0m\u001b[0mgateway_client\u001b[0m\u001b[0;34m.\u001b[0m\u001b[0msend_command\u001b[0m\u001b[0;34m(\u001b[0m\u001b[0mcommand\u001b[0m\u001b[0;34m)\u001b[0m\u001b[0;34m\u001b[0m\u001b[0;34m\u001b[0m\u001b[0m\n\u001b[1;32m   1256\u001b[0m         return_value = get_return_value(\n\u001b[0;32m-> 1257\u001b[0;31m             answer, self.gateway_client, self.target_id, self.name)\n\u001b[0m\u001b[1;32m   1258\u001b[0m \u001b[0;34m\u001b[0m\u001b[0m\n\u001b[1;32m   1259\u001b[0m         \u001b[0;32mfor\u001b[0m \u001b[0mtemp_arg\u001b[0m \u001b[0;32min\u001b[0m \u001b[0mtemp_args\u001b[0m\u001b[0;34m:\u001b[0m\u001b[0;34m\u001b[0m\u001b[0;34m\u001b[0m\u001b[0m\n",
      "\u001b[0;32m~/Documents/Source_code/sparkProject/spark-2.4.3-bin-hadoop2.7/python/pyspark/sql/utils.py\u001b[0m in \u001b[0;36mdeco\u001b[0;34m(*a, **kw)\u001b[0m\n\u001b[1;32m     77\u001b[0m                 \u001b[0;32mraise\u001b[0m \u001b[0mQueryExecutionException\u001b[0m\u001b[0;34m(\u001b[0m\u001b[0ms\u001b[0m\u001b[0;34m.\u001b[0m\u001b[0msplit\u001b[0m\u001b[0;34m(\u001b[0m\u001b[0;34m': '\u001b[0m\u001b[0;34m,\u001b[0m \u001b[0;36m1\u001b[0m\u001b[0;34m)\u001b[0m\u001b[0;34m[\u001b[0m\u001b[0;36m1\u001b[0m\u001b[0;34m]\u001b[0m\u001b[0;34m,\u001b[0m \u001b[0mstackTrace\u001b[0m\u001b[0;34m)\u001b[0m\u001b[0;34m\u001b[0m\u001b[0;34m\u001b[0m\u001b[0m\n\u001b[1;32m     78\u001b[0m             \u001b[0;32mif\u001b[0m \u001b[0ms\u001b[0m\u001b[0;34m.\u001b[0m\u001b[0mstartswith\u001b[0m\u001b[0;34m(\u001b[0m\u001b[0;34m'java.lang.IllegalArgumentException: '\u001b[0m\u001b[0;34m)\u001b[0m\u001b[0;34m:\u001b[0m\u001b[0;34m\u001b[0m\u001b[0;34m\u001b[0m\u001b[0m\n\u001b[0;32m---> 79\u001b[0;31m                 \u001b[0;32mraise\u001b[0m \u001b[0mIllegalArgumentException\u001b[0m\u001b[0;34m(\u001b[0m\u001b[0ms\u001b[0m\u001b[0;34m.\u001b[0m\u001b[0msplit\u001b[0m\u001b[0;34m(\u001b[0m\u001b[0;34m': '\u001b[0m\u001b[0;34m,\u001b[0m \u001b[0;36m1\u001b[0m\u001b[0;34m)\u001b[0m\u001b[0;34m[\u001b[0m\u001b[0;36m1\u001b[0m\u001b[0;34m]\u001b[0m\u001b[0;34m,\u001b[0m \u001b[0mstackTrace\u001b[0m\u001b[0;34m)\u001b[0m\u001b[0;34m\u001b[0m\u001b[0;34m\u001b[0m\u001b[0m\n\u001b[0m\u001b[1;32m     80\u001b[0m             \u001b[0;32mraise\u001b[0m\u001b[0;34m\u001b[0m\u001b[0;34m\u001b[0m\u001b[0m\n\u001b[1;32m     81\u001b[0m     \u001b[0;32mreturn\u001b[0m \u001b[0mdeco\u001b[0m\u001b[0;34m\u001b[0m\u001b[0;34m\u001b[0m\u001b[0m\n",
      "\u001b[0;31mIllegalArgumentException\u001b[0m: 'Data type string of column duration is not supported.\\nData type string of column credit_amount is not supported.\\nData type string of column instPercent is not supported.\\nData type string of column residence is not supported.\\nData type string of column age is not supported.\\nData type string of column credits is not supported.\\nData type string of column dependents is not supported.'"
     ]
    }
   ],
   "source": [
    "from pyspark.ml.feature import VectorAssembler, StringIndexer\n",
    "\n",
    "assembler = VectorAssembler(inputCols=featureCols, outputCol=\"indexedFeatures\")\n",
    "df2 = assembler.transform(data_prepared)\n",
    "labelIndexer = StringIndexer(inputCol=\"credibility_indexed\", outputCol=\"indexedLabel\")\n",
    "data = labelIndexer.fit(df2).transform(df2)\n",
    "\n",
    "data.show()"
   ]
  },
  {
   "cell_type": "code",
   "execution_count": null,
   "metadata": {
    "scrolled": true
   },
   "outputs": [],
   "source": [
    "(trainingData, testData) = data.randomSplit([0.7, 0.3])"
   ]
  },
  {
   "cell_type": "code",
   "execution_count": null,
   "metadata": {
    "scrolled": false
   },
   "outputs": [],
   "source": [
    "from pyspark.ml import Pipeline\n",
    "from pyspark.ml.classification import DecisionTreeClassifier\n",
    "\n",
    "dt = DecisionTreeClassifier(labelCol=\"indexedLabel\", featuresCol=\"indexedFeatures\")\n"
   ]
  },
  {
   "cell_type": "code",
   "execution_count": null,
   "metadata": {
    "scrolled": false
   },
   "outputs": [],
   "source": [
    "model = dt.fit(trainingData)\n",
    "predictions = model.transform(testData)\n",
    "\n",
    "\n",
    "predictions.select([\"prediction\", \"indexedLabel\",\"indexedFeatures\"]).show(5)\n",
    "\n"
   ]
  },
  {
   "cell_type": "code",
   "execution_count": null,
   "metadata": {
    "scrolled": false
   },
   "outputs": [],
   "source": [
    "print(model.toDebugString)"
   ]
  },
  {
   "cell_type": "code",
   "execution_count": null,
   "metadata": {
    "scrolled": false
   },
   "outputs": [],
   "source": [
    "from pyspark.ml.evaluation import MulticlassClassificationEvaluator\n",
    "\n",
    "evaluator = MulticlassClassificationEvaluator(\n",
    "    labelCol=\"indexedLabel\", predictionCol=\"prediction\", metricName=\"accuracy\")\n",
    "accuracy = evaluator.evaluate(predictions)\n",
    "print(\"Test Error = %g \" % (1.0 - accuracy))\n",
    "\n"
   ]
  },
  {
   "cell_type": "code",
   "execution_count": null,
   "metadata": {
    "scrolled": false
   },
   "outputs": [],
   "source": []
  }
 ],
 "metadata": {
  "kernelspec": {
   "display_name": "Python 3",
   "language": "python",
   "name": "python3"
  },
  "language_info": {
   "codemirror_mode": {
    "name": "ipython",
    "version": 3
   },
   "file_extension": ".py",
   "mimetype": "text/x-python",
   "name": "python",
   "nbconvert_exporter": "python",
   "pygments_lexer": "ipython3",
   "version": "3.7.3"
  }
 },
 "nbformat": 4,
 "nbformat_minor": 2
}
